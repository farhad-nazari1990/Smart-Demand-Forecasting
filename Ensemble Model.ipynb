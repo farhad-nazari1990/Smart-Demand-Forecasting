{
 "cells": [
  {
   "cell_type": "code",
   "execution_count": 1,
   "id": "2a756551",
   "metadata": {
    "_cell_guid": "b1076dfc-b9ad-4769-8c92-a6c4dae69d19",
    "_uuid": "8f2839f25d086af736a60e9eeb907d3b93b6e0e5",
    "execution": {
     "iopub.execute_input": "2022-04-25T10:07:14.908008Z",
     "iopub.status.busy": "2022-04-25T10:07:14.907552Z",
     "iopub.status.idle": "2022-04-25T10:07:17.174020Z",
     "shell.execute_reply": "2022-04-25T10:07:17.173026Z"
    },
    "papermill": {
     "duration": 2.28786,
     "end_time": "2022-04-25T10:07:17.177015",
     "exception": false,
     "start_time": "2022-04-25T10:07:14.889155",
     "status": "completed"
    },
    "tags": []
   },
   "outputs": [
    {
     "data": {
      "text/html": [
       "<style type='text/css'>\n",
       ".datatable table.frame { margin-bottom: 0; }\n",
       ".datatable table.frame thead { border-bottom: none; }\n",
       ".datatable table.frame tr.coltypes td {  color: #FFFFFF;  line-height: 6px;  padding: 0 0.5em;}\n",
       ".datatable .bool    { background: #DDDD99; }\n",
       ".datatable .object  { background: #565656; }\n",
       ".datatable .int     { background: #5D9E5D; }\n",
       ".datatable .float   { background: #4040CC; }\n",
       ".datatable .str     { background: #CC4040; }\n",
       ".datatable .time    { background: #40CC40; }\n",
       ".datatable .row_index {  background: var(--jp-border-color3);  border-right: 1px solid var(--jp-border-color0);  color: var(--jp-ui-font-color3);  font-size: 9px;}\n",
       ".datatable .frame tbody td { text-align: left; }\n",
       ".datatable .frame tr.coltypes .row_index {  background: var(--jp-border-color0);}\n",
       ".datatable th:nth-child(2) { padding-left: 12px; }\n",
       ".datatable .hellipsis {  color: var(--jp-cell-editor-border-color);}\n",
       ".datatable .vellipsis {  background: var(--jp-layout-color0);  color: var(--jp-cell-editor-border-color);}\n",
       ".datatable .na {  color: var(--jp-cell-editor-border-color);  font-size: 80%;}\n",
       ".datatable .sp {  opacity: 0.25;}\n",
       ".datatable .footer { font-size: 9px; }\n",
       ".datatable .frame_dimensions {  background: var(--jp-border-color3);  border-top: 1px solid var(--jp-border-color0);  color: var(--jp-ui-font-color3);  display: inline-block;  opacity: 0.6;  padding: 1px 10px 1px 5px;}\n",
       "</style>\n"
      ],
      "text/plain": [
       "<IPython.core.display.HTML object>"
      ]
     },
     "metadata": {},
     "output_type": "display_data"
    }
   ],
   "source": [
    "import pandas as pd\n",
    "import numpy as np\n",
    "\n",
    "import seaborn as sns\n",
    "import matplotlib.pyplot as plt\n",
    "import json\n",
    "import os\n",
    "import glob\n",
    "import datetime\n",
    "import warnings\n",
    "warnings.filterwarnings('ignore')\n",
    "\n",
    "np.random.seed(7)\n",
    "from colorama import Fore\n",
    "from lightgbm import LGBMRegressor\n",
    "from sklearn.model_selection import cross_val_score\n",
    "from sklearn.model_selection import RepeatedKFold\n",
    "from matplotlib import pyplot"
   ]
  },
  {
   "cell_type": "code",
   "execution_count": 2,
   "id": "1d26ebba",
   "metadata": {
    "execution": {
     "iopub.execute_input": "2022-04-25T10:07:17.212910Z",
     "iopub.status.busy": "2022-04-25T10:07:17.212501Z",
     "iopub.status.idle": "2022-04-25T10:07:17.217609Z",
     "shell.execute_reply": "2022-04-25T10:07:17.216973Z"
    },
    "papermill": {
     "duration": 0.024132,
     "end_time": "2022-04-25T10:07:17.219286",
     "exception": false,
     "start_time": "2022-04-25T10:07:17.195154",
     "status": "completed"
    },
    "tags": []
   },
   "outputs": [],
   "source": [
    "weather_columns = ['date', 'avg_wind_speed', 'peak_gust_time', 'precipitation', 'snow', 'snow_depth', 'temp_avg', 'temp_max', 'temp_min', 'tot_sunshine',\n",
    "                  'dir_fwind_2min', 'dir_fwind_5min', 'speed_fwind_2min', 'speed_fwind_5min', 'fog', 'heavy_fog', 'thunder', 'ice_pellets', 'hail', 'glaze', 'smoke']\n",
    "traffic_columns = ['PUZone', 'Count', 'PUTime']"
   ]
  },
  {
   "cell_type": "code",
   "execution_count": 3,
   "id": "3a562ea2",
   "metadata": {
    "execution": {
     "iopub.execute_input": "2022-04-25T10:07:17.253214Z",
     "iopub.status.busy": "2022-04-25T10:07:17.252558Z",
     "iopub.status.idle": "2022-04-25T10:07:17.258340Z",
     "shell.execute_reply": "2022-04-25T10:07:17.257637Z"
    },
    "papermill": {
     "duration": 0.025391,
     "end_time": "2022-04-25T10:07:17.260426",
     "exception": false,
     "start_time": "2022-04-25T10:07:17.235035",
     "status": "completed"
    },
    "tags": []
   },
   "outputs": [],
   "source": [
    "from datetime import datetime, timedelta\n",
    "\n",
    "def datetime_range(end, delta, count):\n",
    "        \n",
    "        current = datetime.strptime(end, '%Y-%m-%d %H:%M:%S')\n",
    "        for i in range(count):\n",
    "            yield current\n",
    "            current -= delta"
   ]
  },
  {
   "cell_type": "code",
   "execution_count": 4,
   "id": "1de05f6a",
   "metadata": {
    "execution": {
     "iopub.execute_input": "2022-04-25T10:07:17.296390Z",
     "iopub.status.busy": "2022-04-25T10:07:17.295977Z",
     "iopub.status.idle": "2022-04-25T10:07:17.301843Z",
     "shell.execute_reply": "2022-04-25T10:07:17.301138Z"
    },
    "papermill": {
     "duration": 0.026349,
     "end_time": "2022-04-25T10:07:17.303841",
     "exception": false,
     "start_time": "2022-04-25T10:07:17.277492",
     "status": "completed"
    },
    "tags": []
   },
   "outputs": [],
   "source": [
    "from sklearn.model_selection import cross_validate\n",
    "def evaluate(model, X, y, cv):\n",
    "    cv_results = cross_validate(\n",
    "        model,\n",
    "        X,\n",
    "        y,\n",
    "        cv=cv,\n",
    "        scoring=[\"neg_mean_absolute_error\", \"neg_root_mean_squared_error\"],\n",
    "    )\n",
    "    mae = -cv_results[\"test_neg_mean_absolute_error\"]\n",
    "    rmse = -cv_results[\"test_neg_root_mean_squared_error\"]\n",
    "    print(\n",
    "        \"Cross validation Mean Absolute Error:\",mae\n",
    "    )\n"
   ]
  },
  {
   "cell_type": "code",
   "execution_count": 5,
   "id": "87b99716",
   "metadata": {
    "execution": {
     "iopub.execute_input": "2022-04-25T10:07:17.337412Z",
     "iopub.status.busy": "2022-04-25T10:07:17.336800Z",
     "iopub.status.idle": "2022-04-25T10:07:17.341496Z",
     "shell.execute_reply": "2022-04-25T10:07:17.340861Z"
    },
    "papermill": {
     "duration": 0.023866,
     "end_time": "2022-04-25T10:07:17.343442",
     "exception": false,
     "start_time": "2022-04-25T10:07:17.319576",
     "status": "completed"
    },
    "tags": []
   },
   "outputs": [],
   "source": [
    "high_zone = [0] * 73\n",
    "for h in [1, 15, 24, 25, 26, 30, 31, 37, 41, 43, 44, 46, 62, 69]:\n",
    "    high_zone[h] = 1"
   ]
  },
  {
   "cell_type": "code",
   "execution_count": 6,
   "id": "814c9a3d",
   "metadata": {
    "execution": {
     "iopub.execute_input": "2022-04-25T10:07:17.378485Z",
     "iopub.status.busy": "2022-04-25T10:07:17.377875Z",
     "iopub.status.idle": "2022-04-25T10:07:17.902843Z",
     "shell.execute_reply": "2022-04-25T10:07:17.901938Z"
    },
    "papermill": {
     "duration": 0.545347,
     "end_time": "2022-04-25T10:07:17.905532",
     "exception": false,
     "start_time": "2022-04-25T10:07:17.360185",
     "status": "completed"
    },
    "tags": []
   },
   "outputs": [],
   "source": [
    "from sklearn.ensemble import RandomForestRegressor\n",
    "from sklearn.tree import DecisionTreeRegressor\n",
    "from sklearn.metrics import mean_absolute_error, mean_squared_error\n",
    "from sklearn.neural_network import MLPRegressor\n",
    "from xgboost import XGBRegressor\n",
    "from lightgbm import LGBMRegressor\n",
    "from sklearn.ensemble import VotingRegressor\n",
    "from sklearn.model_selection import TimeSeriesSplit\n",
    "from sklearn.svm import SVR\n",
    "from sklearn.pipeline import make_pipeline\n",
    "from sklearn.preprocessing import StandardScaler\n",
    "import numpy as np\n",
    "class Model():\n",
    "    \n",
    "    def __init__(self):\n",
    "        self.random_forest = RandomForestRegressor(n_estimators=100)\n",
    "        self.decision_tree = DecisionTreeRegressor()\n",
    "        self.mlp = MLPRegressor(hidden_layer_sizes=(300,150), max_iter=200,activation ='relu',solver='adam',random_state=1)\n",
    "        self.xgb = XGBRegressor(objective='reg:squarederror', n_estimators=1000)\n",
    "        self.lgbm = LGBMRegressor(learning_rate = 0.01, num_iterations = 1000)\n",
    "        self.svr = make_pipeline(StandardScaler(), SVR(C=1.0, epsilon=0.2))\n",
    "#         self.ensemble = VotingRegressor([('lgbm', self.lgbm), ('xgb', self.xgb), ('svr', self.svr)])\n",
    "        self.ensemble = VotingRegressor([('lgbm', self.lgbm), ('xgb', self.xgb), ('rf', self.random_forest), ('mlp', self.mlp)])\n",
    "        self.count = 0\n",
    "        self.to_keep = []\n",
    "        self.weather_to_keep = []\n",
    "        self.train_drop_list = ['Count(0)', 'date']\n",
    "        self.model = self.ensemble\n",
    "        return \n",
    "    \n",
    "    def train_model(self, traffic, weather):\n",
    "        df = self.preprocessing(traffic, weather)\n",
    "        df.to_csv('new_merged.csv', index=False)\n",
    "        \n",
    "        train = df.loc[df.date < '2017-05-01']\n",
    "        valid = df.loc[df.date >= '2017-05-01']\n",
    "        \n",
    "        ts_cv = TimeSeriesSplit(\n",
    "            n_splits=5,\n",
    "            gap=48,\n",
    "            max_train_size=10000,\n",
    "            test_size=1000,\n",
    "        )\n",
    "        \n",
    "        train_y = train['Count(0)']\n",
    "        \n",
    "        train_x = train.drop(self.train_drop_list, axis=1)\n",
    "       \n",
    "        self.to_keep = train_x.columns\n",
    "        \n",
    "        valid_y = valid['Count(0)']\n",
    "        \n",
    "        valid_x = valid.drop(self.train_drop_list, axis=1)\n",
    "       \n",
    "        self.model.fit(train_x,train_y)\n",
    "        pred_y = self.model.predict(valid_x)\n",
    "        valid_y_array = valid_y.values.ravel()\n",
    "        mae = mean_absolute_error(valid_y_array,pred_y)\n",
    "        print('Validation MAE: ', mae)\n",
    "        evaluate(self.model, df.drop(self.train_drop_list, axis=1), df['Count(0)'], cv=ts_cv)\n",
    "    \n",
    "    def preprocessing(self, traffic, weather):\n",
    "        \n",
    "        \n",
    "        # extract date and hour\n",
    "        \n",
    "        traffic['PUTime'] = pd.to_datetime(traffic['PUTime'])\n",
    "        traffic['date'] = traffic['PUTime'].dt.date\n",
    "        traffic['hour'] = traffic['PUTime'].dt.hour\n",
    "        traffic['weekday'] = (traffic['PUTime'].dt.dayofweek < 5).astype(int)\n",
    "        \n",
    "        traffic['peak_hour'] = (traffic['hour'] >= 16) * (traffic['hour'] <= 20) + (traffic['weekday'] == 1) * (traffic['hour'] >= 6) * (traffic['hour'] <= 10) \n",
    "        traffic['peak_hour'] = traffic['peak_hour'].astype(int)\n",
    "        \n",
    "        # group by zones\n",
    "        grouped = traffic.groupby(traffic.PUZone)\n",
    "        dfs = []\n",
    "        for i in range(0,73):\n",
    "            dfs.append(grouped.get_group(i))\n",
    "        \n",
    "        for zone in range(0,73) :\n",
    "            dfs[zone].drop(['PUZone'], axis=1,inplace=True)\n",
    "            \n",
    "        \n",
    "        \n",
    "        # Preprocess weather\n",
    "        weather.columns = weather_columns\n",
    "\n",
    "        weather['date'] = pd.DatetimeIndex(weather['date']).date\n",
    "        \n",
    "        # handle null values\n",
    "        weather = weather.dropna(how='all')\n",
    "        weather = weather.drop(['peak_gust_time', 'temp_avg', 'tot_sunshine', 'thunder', 'ice_pellets', 'hail', 'glaze'], 1)\n",
    "        \n",
    "        ### replace with 0\n",
    "        for col in weather.columns:\n",
    "            weather[col] = weather[col].fillna(0)\n",
    "        \n",
    "                                \n",
    "        weather = weather[['date']+self.weather_to_keep]\n",
    "        \n",
    "        X2 = []\n",
    "        # add same hour for previous 30 days\n",
    "        for zone in range(0,73) :\n",
    "            dfs[zone][\"PUTime\"] = pd.to_datetime(dfs[zone][\"PUTime\"]) # Convert column type to be datetime\n",
    "            indexed_df = dfs[zone].set_index([\"PUTime\"])           # Create a datetime index\n",
    "            indexed_df.drop(['date'],axis=1,inplace=True)\n",
    "            indexed_df.drop(['hour'],axis=1,inplace=True)\n",
    "            indexed_df.drop(['weekday'], axis=1, inplace=True)\n",
    "            indexed_df.drop(['peak_hour'], axis=1, inplace=True)\n",
    "            \n",
    "            \n",
    "            n_steps_in = 30\n",
    "            X_new = pd.DataFrame()\n",
    "            for k in range(len(indexed_df.columns)) :\n",
    "                for i in range(0, n_steps_in):\n",
    "                    for j in range(-1, 1, 1):\n",
    "                        X_new[indexed_df.columns[k] + '(' + str(-24*i+j) + ')'] = indexed_df.iloc[:,k].shift(24*i-j)\n",
    "                    if i<=24:\n",
    "                        X_new[indexed_df.columns[k] + '(' + str(-i) + ')'] = indexed_df.iloc[:,k].shift(i)\n",
    "                X_new[indexed_df.columns[k] + '(' + str(-24*30) + ')'] = indexed_df.iloc[:,k].shift(24*30)\n",
    "            X_new = X_new.iloc[:, ::-1]\n",
    "            X_new['date'] = dfs[zone]['date'].values\n",
    "            X_new['hour'] = dfs[zone]['hour'].values\n",
    "            X_new['weekday'] = dfs[zone]['weekday'].values\n",
    "            X_new['peak_hour'] = dfs[zone]['peak_hour'].values\n",
    "            \n",
    "            X2.append(X_new)\n",
    "            \n",
    "            \n",
    "        for zone in range(0,73):\n",
    "            X2[zone] = X2[zone].dropna()\n",
    "            \n",
    "        dfW2 = []\n",
    "        for zone in range(0,73):\n",
    "            X2[zone]['date'] = X2[zone]['date'].astype(str)\n",
    "            weather['date'] = weather['date'].astype(str)\n",
    "            dfW2.append(X2[zone].merge(weather, on='date'))\n",
    "        \n",
    "        \n",
    "        for zone in range(0,73):\n",
    "            dfW2[zone]['PUZone'] = zone\n",
    "            dfW2[zone]['highZone'] = high_zone[zone]\n",
    "            \n",
    "        \n",
    "        dfAll2 = pd.concat(dfW2, axis=0)\n",
    "        return dfAll2\n",
    "\n",
    "    def preprocess_test(self, demand, weather, dt, neighbour):\n",
    "        \n",
    "        df = pd.DataFrame(columns=self.to_keep)\n",
    "        df['PUZone'] = [i for i in range(0, 73)]\n",
    "        df['highZone'] = high_zone\n",
    "        \n",
    "        pred_date_time_obj = datetime.strptime(dt, '%Y-%m-%d %H:%M:%S')\n",
    "        pred_date, pred_time = dt.split(\" \")\n",
    "        df['weekday'] = (pred_date_time_obj.weekday() < 5)\n",
    "        df['weekday'] = df['weekday'].astype(int)\n",
    "        df['hour'] = pred_date_time_obj.hour\n",
    "        \n",
    "        df['peak_hour'] = (df['hour'] >= 16) * (df['hour'] <= 20) + (df['weekday'] == 1) * (df['hour'] >= 6) * (df['hour'] <= 10)\n",
    "        df['peak_hour'] = df['peak_hour'].astype(int)\n",
    "        \n",
    "        \n",
    "        for i in range(1, 25):\n",
    "            df['Count('+str(-i)+')'] = demand[-i]\n",
    "        for i in range(1, 30):\n",
    "            for j in range(-1, 1, 1):\n",
    "                df['Count('+str(-i*24+j)+')'] = demand[-i*24+j]\n",
    "        df['Count('+str(-30*24)+')'] = demand[-30*24]\n",
    "        \n",
    "        w = weather[-1]\n",
    "        for i in range(len(weather_columns)):\n",
    "            if weather_columns[i] in self.to_keep:\n",
    "                df[weather_columns[i]] = [w[i]] * 73\n",
    "                df[weather_columns[i]] = df[weather_columns[i]].interpolate()\n",
    "        \n",
    "        \n",
    "        # fill nulls\n",
    "        df = df.fillna(0)\n",
    "        return df\n",
    "    \n",
    "\n",
    "    def predict(self, demand, weather, dt, neighbors):\n",
    "        '''\n",
    "        Parameters\n",
    "        ----------\n",
    "        demand: (24*30, 73) numpy array containing last 30 days' hourly demand data, e.g. demand[-1, 3] contains last hour's demand of zone 3\n",
    "        weather: List of lists containing today's and last 30 days' weather data, e.g., weather[-1] is a list containing today's weather data with [DATE, AWND,...,WT08] as in weather.csv\n",
    "        dt: date and time of the prediction e.g., \"2017-06-01 00:00:00\"\n",
    "        neighbors - Dictionary containing the mapping between each zone and their list of neighbors in zone_neighbors.json\n",
    "\n",
    "        Return\n",
    "        ------\n",
    "        predictions: List of 73 non-negative integers - your trip forecast for each zone in the next hour\n",
    "        '''\n",
    "        df = self.preprocess_test(demand, weather, dt, neighbors)\n",
    "        pred_y = self.model.predict(df)\n",
    "        \n",
    "        self.count += 1\n",
    "        if self.count % 100 == 0:\n",
    "            print(self.count, ' times done.')\n",
    "        \n",
    "        return pred_y"
   ]
  },
  {
   "cell_type": "code",
   "execution_count": 7,
   "id": "847dff29",
   "metadata": {
    "execution": {
     "iopub.execute_input": "2022-04-25T10:07:17.939140Z",
     "iopub.status.busy": "2022-04-25T10:07:17.938787Z",
     "iopub.status.idle": "2022-04-25T10:07:18.236427Z",
     "shell.execute_reply": "2022-04-25T10:07:18.235645Z"
    },
    "papermill": {
     "duration": 0.317437,
     "end_time": "2022-04-25T10:07:18.238869",
     "exception": false,
     "start_time": "2022-04-25T10:07:17.921432",
     "status": "completed"
    },
    "tags": []
   },
   "outputs": [],
   "source": [
    "traffic = pd.concat(map(pd.read_csv, ['data/2017-01_1H_zone.csv', 'data/2017-02_1H_zone.csv', \n",
    "                                     'data/2017-03_1H_zone.csv', 'data/2017-04_1H_zone.csv', 'data/2017-05_1H_zone.csv']))\n",
    "traffic.drop(['Unnamed: 0'], axis=1,inplace=True)\n",
    "        \n",
    "weather = pd.read_csv('data/weather.csv')"
   ]
  },
  {
   "cell_type": "code",
   "execution_count": 8,
   "id": "2e55968e",
   "metadata": {
    "execution": {
     "iopub.execute_input": "2022-04-25T10:07:18.272305Z",
     "iopub.status.busy": "2022-04-25T10:07:18.271765Z",
     "iopub.status.idle": "2022-04-25T10:07:18.275283Z",
     "shell.execute_reply": "2022-04-25T10:07:18.274654Z"
    },
    "papermill": {
     "duration": 0.022334,
     "end_time": "2022-04-25T10:07:18.277064",
     "exception": false,
     "start_time": "2022-04-25T10:07:18.254730",
     "status": "completed"
    },
    "tags": []
   },
   "outputs": [],
   "source": [
    "import warnings\n",
    "warnings.filterwarnings('ignore')"
   ]
  },
  {
   "cell_type": "code",
   "execution_count": 9,
   "id": "61283838",
   "metadata": {
    "execution": {
     "iopub.execute_input": "2022-04-25T10:07:18.311291Z",
     "iopub.status.busy": "2022-04-25T10:07:18.310907Z",
     "iopub.status.idle": "2022-04-25T11:35:39.547933Z",
     "shell.execute_reply": "2022-04-25T11:35:39.546831Z"
    },
    "papermill": {
     "duration": 5301.29446,
     "end_time": "2022-04-25T11:35:39.587946",
     "exception": false,
     "start_time": "2022-04-25T10:07:18.293486",
     "status": "completed"
    },
    "tags": []
   },
   "outputs": [
    {
     "name": "stdout",
     "output_type": "stream",
     "text": [
      "Validation MAE:  15.373802442663964\n",
      "Cross validation Mean Absolute Error: [ 7.5738978   7.69735854 23.89183351 23.38049649 24.16663535]\n"
     ]
    }
   ],
   "source": [
    "import test_pred\n",
    "model = Model()\n",
    "model.train_model(traffic, weather)"
   ]
  },
  {
   "cell_type": "code",
   "execution_count": 10,
   "id": "61443d4e",
   "metadata": {
    "execution": {
     "iopub.execute_input": "2022-04-25T11:35:39.633992Z",
     "iopub.status.busy": "2022-04-25T11:35:39.633582Z",
     "iopub.status.idle": "2022-04-25T11:37:23.963440Z",
     "shell.execute_reply": "2022-04-25T11:37:23.962189Z"
    },
    "papermill": {
     "duration": 104.352026,
     "end_time": "2022-04-25T11:37:23.967463",
     "exception": false,
     "start_time": "2022-04-25T11:35:39.615437",
     "status": "completed"
    },
    "tags": []
   },
   "outputs": [
    {
     "name": "stdout",
     "output_type": "stream",
     "text": [
      "100  times done.\n",
      "200  times done.\n",
      "300  times done.\n",
      "400  times done.\n",
      "500  times done.\n",
      "600  times done.\n",
      "700  times done.\n"
     ]
    }
   ],
   "source": [
    "mae, zone_mae = test_pred.eval(model)"
   ]
  },
  {
   "cell_type": "code",
   "execution_count": 11,
   "id": "37ce829e",
   "metadata": {
    "execution": {
     "iopub.execute_input": "2022-04-25T11:37:24.041103Z",
     "iopub.status.busy": "2022-04-25T11:37:24.040623Z",
     "iopub.status.idle": "2022-04-25T11:37:24.051860Z",
     "shell.execute_reply": "2022-04-25T11:37:24.050861Z"
    },
    "papermill": {
     "duration": 0.051666,
     "end_time": "2022-04-25T11:37:24.055355",
     "exception": false,
     "start_time": "2022-04-25T11:37:24.003689",
     "status": "completed"
    },
    "tags": []
   },
   "outputs": [
    {
     "name": "stdout",
     "output_type": "stream",
     "text": [
      "14.634484584474082\n"
     ]
    }
   ],
   "source": [
    "print(mae)"
   ]
  },
  {
   "cell_type": "code",
   "execution_count": 12,
   "id": "4b8bde94",
   "metadata": {
    "execution": {
     "iopub.execute_input": "2022-04-25T11:37:24.099959Z",
     "iopub.status.busy": "2022-04-25T11:37:24.099584Z",
     "iopub.status.idle": "2022-04-25T11:37:24.105859Z",
     "shell.execute_reply": "2022-04-25T11:37:24.105035Z"
    },
    "papermill": {
     "duration": 0.028865,
     "end_time": "2022-04-25T11:37:24.108317",
     "exception": false,
     "start_time": "2022-04-25T11:37:24.079452",
     "status": "completed"
    },
    "tags": []
   },
   "outputs": [
    {
     "name": "stdout",
     "output_type": "stream",
     "text": [
      "[22.7422724  23.90387987 16.99620626 16.92737547  4.00765012  0.65267874\n",
      "  2.53241719  0.38824155  9.90684339  0.99662583 12.45302094  0.35914115\n",
      " 15.32529766 16.97249328 21.25349087 33.04460538 12.83793238 14.63902905\n",
      "  3.37287951 17.28139928 11.28314766  3.63200867 16.39136607  0.69178855\n",
      " 42.74944985 34.44477168 28.65441255 23.08839764 10.2099262   1.34297258\n",
      " 29.15768238 42.46980723  0.62468194  4.80721663 11.75106775  6.04583583\n",
      " 18.15146915 33.34876327 19.37343275  4.46716964 17.15883881 28.7552377\n",
      "  0.51528405 35.55857672 37.52654735 22.96310394 26.45701874  6.17130193\n",
      "  1.39501973  3.76388391 21.07964747  1.39789367 22.57007629  9.1934046\n",
      " 14.8564962  17.97650862  2.81654571  5.00682996  8.33122694  4.97045756\n",
      " 25.47658177  4.78830579 32.85048165 14.35344286  1.83239714 23.88230384\n",
      "  0.64598489  9.29398455 11.25488203 27.99719555 10.758097    7.52716387\n",
      " 19.91380548]\n"
     ]
    }
   ],
   "source": [
    "print(zone_mae)"
   ]
  },
  {
   "cell_type": "code",
   "execution_count": null,
   "id": "e934959b",
   "metadata": {
    "papermill": {
     "duration": 0.019026,
     "end_time": "2022-04-25T11:37:24.147051",
     "exception": false,
     "start_time": "2022-04-25T11:37:24.128025",
     "status": "completed"
    },
    "tags": []
   },
   "outputs": [],
   "source": []
  }
 ],
 "metadata": {
  "kernelspec": {
   "display_name": "Python 3",
   "language": "python",
   "name": "python3"
  },
  "language_info": {
   "codemirror_mode": {
    "name": "ipython",
    "version": 3
   },
   "file_extension": ".py",
   "mimetype": "text/x-python",
   "name": "python",
   "nbconvert_exporter": "python",
   "pygments_lexer": "ipython3",
   "version": "3.7.12"
  },
  "papermill": {
   "default_parameters": {},
   "duration": 5420.87245,
   "end_time": "2022-04-25T11:37:25.504170",
   "environment_variables": {},
   "exception": null,
   "input_path": "__notebook__.ipynb",
   "output_path": "__notebook__.ipynb",
   "parameters": {},
   "start_time": "2022-04-25T10:07:04.631720",
   "version": "2.3.4"
  }
 },
 "nbformat": 4,
 "nbformat_minor": 5
}
